{
 "cells": [
  {
   "attachments": {},
   "cell_type": "markdown",
   "metadata": {},
   "source": [
    "# Time Evolution"
   ]
  },
  {
   "attachments": {},
   "cell_type": "markdown",
   "metadata": {},
   "source": [
    "In the case of quantum many body systems time evolution amounts to solving the time dependent schrodinger equation\n",
    "$$i \\frac{\\partial}{\\partial t} \\ket{\\Psi(t)}= \\hat{H}\\ket{\\Psi(t)}$$\n",
    "for a given Hamiltonian $\\hat{H}$ with initial condition $\\ket{\\Psi_0}=\\ket{\\Psi(t_0)}$. For a time independent Hamiltonian the solution is given by $\\ket{\\Psi(t)} = \\exp(-it\\hat{H})\\ket{\\Psi_0}$. By approximating the time evolution operator in the Tensor Network language, we can also study real-time dynamics of quantum many body systems."
   ]
  },
  {
   "attachments": {},
   "cell_type": "markdown",
   "metadata": {},
   "source": [
    "Below are some time evolution methods for MPS\n",
    "\n",
    "* (i)TEBD\n",
    "* TDVP\n",
    "* Time Evolution MPO"
   ]
  },
  {
   "attachments": {},
   "cell_type": "markdown",
   "metadata": {},
   "source": [
    "In this part of the tutorial we will focus on the latter two."
   ]
  },
  {
   "attachments": {},
   "cell_type": "markdown",
   "metadata": {},
   "source": [
    "## TDVP"
   ]
  },
  {
   "attachments": {},
   "cell_type": "markdown",
   "metadata": {},
   "source": [
    "The Time-Dependent Variational Principle is an old idea, originaly developed by Dirac and Frenkel. The idea is to solve the schrodinger equation by minimizing\n",
    "$$\\|i \\frac{\\partial}{\\partial t} \\ket{\\Psi(t)}- \\hat{H}\\ket{\\Psi(t)}\\|^2$$\n",
    "In the case of MPS, we can parametrize the state $\\ket{\\Psi(t)}$ by a set of time dependent matrices $\\{A_1(t),A_2(t),\\dots A_N(t)\\}$ (where N is the system size for finiteMPS or the size of the unit cell for infinite MPS). In other words the state $\\ket{\\Psi(t)}$ lives in a manifold determined by these matrices, the MPS-manifold. Geometrically the solution of the minimization problem is given by the projecting of the RHS of the schrodinger equation onto the MPS manifold \n",
    "$$\\frac{d}{dt} \\ket{\\Psi(A)} = -i \\hat{P}_{T\\ket{\\Psi(A)}} \\hat{H}\\ket{\\Psi(A)}$$\n",
    "where $\\hat{P}_{T\\ket{\\Psi(A)}}$ is the operator that projects the state onto the tangent space. As a consequence the time-evolving state will never leave the MPS manifold and parametrization in terms of $A(t)$ makes sense. One can in principle work out the above equation on the level of the $A$ matrices and try to solve the above equation. This gives a complicated set of (non-linear) equations that can be solved by one's favourite finite difference scheme, but requires the inversion of matrices with small singular values (and thus numerical instabilities). Instead, it turns out that a natural and inversion free way of solving this equation is possible if we gauge the mps to mixed form."
   ]
  },
  {
   "attachments": {},
   "cell_type": "markdown",
   "metadata": {},
   "source": [
    "For a finite MPS, one can show that in the mixed gauge the projection operator is given by\n",
    "$$expression$$\n",
    "The projection operation consists of two sums, one where we have brought the tensor on site $n$ into AC form and one where we only have the bond tensor C. The insight is that we can solve each term seperately (and in fact in any order). For each site $n$ of the MPS we have\n",
    "$$\\dot{A}_C(n) = -i \\hat{H}_{eff}^{A_C}(n) A_C(n)$$ \n",
    "and $$\\dot{C}(n) = i \\hat{H}_{eff}^{C}(n) C(n)$$\n",
    "Aproximating the effective Hamiltonians as independent of the other $A_C$ and $C$ these can be integrated exactly\n",
    "$$A_C(n,t+dt) = \\exp(-i \\hat{H}_{eff}^{A_C}(n)) A_C(n,t) $$ \n",
    "and $$C(n,t+dt) = \\exp(i \\hat{H}_{eff}^{C}(n)) C(n,t) $$\n",
    "A natural way to solve the set of equations is then, starting from the first site\n",
    "\n",
    " * update $A_C(n)$ according to the above formula\n",
    " * QR the resulting new $A_C'$ to get a new updated $A_L(n,t+dt)$ en $\\tilde{C}$\n",
    " * Update the new $\\tilde{C}$ via the above to get an updated $C(n+1,t+dt)$\n",
    " * Absorb the updated $C(n+1,t+dt)$ into $A_R(n+1,t)$ to get a new $A_C(n+1,t)$ and repeat\n",
    "\n",
    "At the end of the chain one only updates the $A_C$ since there is no $C$ there. Doing the above left to right sweep gives a first order integrator i.e. we have solved the time evolution up to order $\\mathcal{O}(dt^2)$. Since the terms can be solved in any order we can also perform a reverse sweep i.e. working from right to left. Combining this with the left to right sweep yields a second order integrator (because the reverse sweep is the adjoint of the forwards sweep).\n"
   ]
  },
  {
   "attachments": {},
   "cell_type": "markdown",
   "metadata": {},
   "source": [
    "For an infinite MPS one can also do a sweep-like update until some criteria converges to obtain new tensors $\\{A_L,C,A_C,A_R\\}$. However this can be costly since one has to iterate until convergence. Another option is to instead use the translational invariance of the system."
   ]
  },
  {
   "attachments": {},
   "cell_type": "markdown",
   "metadata": {},
   "source": [
    "Below is some code on how MPSKit and MPSKitModels can be used out-of-the-box to perform time evolution."
   ]
  },
  {
   "attachments": {},
   "cell_type": "markdown",
   "metadata": {},
   "source": [
    "## Time Evolution MPO"
   ]
  },
  {
   "attachments": {},
   "cell_type": "markdown",
   "metadata": {},
   "source": [
    "Perhaps the most natural way to perform the time evolution would be to write the time evolution operator as a MPO. The evolved state would then simply be the contraction of this MPO onto an MPS. The exponential can be approximated by its trunctated Taylor series\n",
    "$$\\exp(-\\tau\\hat{H}) = \\hat{1} + \\tau\\hat{H} + \\frac{\\tau^2}{2}\\hat{H}^2 + \\mathcal{O}(\\tau^3)$$\n",
    "The MPO approximation of the time evolution operator then boils down to implementing powers of $\\hat{H}$ in a efficient way (i.e. with the lowest possible MPO bond dimension). This can be done systematically for any desired order. In addition numerical compression is also possible."
   ]
  },
  {
   "attachments": {},
   "cell_type": "markdown",
   "metadata": {},
   "source": [
    "## Imaginary time evolution"
   ]
  },
  {
   "attachments": {},
   "cell_type": "markdown",
   "metadata": {},
   "source": []
  },
  {
   "attachments": {},
   "cell_type": "markdown",
   "metadata": {},
   "source": [
    "## Finite Temperature"
   ]
  },
  {
   "attachments": {},
   "cell_type": "markdown",
   "metadata": {},
   "source": [
    "TBD"
   ]
  },
  {
   "cell_type": "markdown",
   "metadata": {},
   "source": []
  }
 ],
 "metadata": {
  "kernelspec": {
   "display_name": "Julia 1.8.5",
   "language": "julia",
   "name": "julia-1.8"
  },
  "language_info": {
   "file_extension": ".jl",
   "mimetype": "application/julia",
   "name": "julia",
   "version": "1.8.5"
  },
  "orig_nbformat": 4
 },
 "nbformat": 4,
 "nbformat_minor": 2
}
