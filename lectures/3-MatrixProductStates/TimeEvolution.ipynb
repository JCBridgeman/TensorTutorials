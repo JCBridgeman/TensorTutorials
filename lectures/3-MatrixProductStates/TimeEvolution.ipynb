{
 "cells": [
  {
   "attachments": {},
   "cell_type": "markdown",
   "metadata": {},
   "source": [
    "Time Evolution"
   ]
  },
  {
   "attachments": {},
   "cell_type": "markdown",
   "metadata": {},
   "source": [
    "Besides ground state properties Tensor Networks can also be used to study real-time dynamics of quantum many body systems (unlike Monte Carlo). There are a couple of algorithms to do time evolution"
   ]
  },
  {
   "attachments": {},
   "cell_type": "markdown",
   "metadata": {},
   "source": [
    "* iTEBD\n",
    "* TDVP\n",
    "* Time Evolution MPO\n",
    "\n",
    "We will focus on the latter two"
   ]
  },
  {
   "attachments": {},
   "cell_type": "markdown",
   "metadata": {},
   "source": [
    "In the case of quantum many body systems time evolution amounts to solving the time dependent schrodinger equation\n",
    "$$i \\frac{d}{dt} \\ket{\\Psi(t)}= \\hat{H}\\ket{\\Psi(t)}$$\n",
    "for a given Hamiltonian $\\hat{H}$ with initial condition $\\ket{\\Psi_0}=\\ket{\\Psi(t_0)}$. For a time independent Hamiltonian the solution is given by $\\ket{\\Psi(t)} = \\exp(-it\\hat{H})\\ket{\\Psi_0}$. Constructing the exponential however is hard. For Tensor Networks the different time evolution algorithms try to implement the evolution operator approximately."
   ]
  },
  {
   "attachments": {},
   "cell_type": "markdown",
   "metadata": {},
   "source": [
    "TDVP"
   ]
  },
  {
   "attachments": {},
   "cell_type": "markdown",
   "metadata": {},
   "source": [
    "The Time-Dependent Variational Princinple is an old idea, originaly developed by Dirac and Frenkel. The idea is to solve the schrodinger equation by minimizing\n",
    "$$\\|i \\frac{d}{dt} \\ket{\\Psi(t)}- \\hat{H}\\ket{\\Psi(t)}\\|^2$$\n",
    "In the case of MPS, we can parametrize the state $\\ket{\\Psi(t)}$ by a set of time dependent matrices $\\{A_1(t),A_2(t),\\dots A_N(t)\\}$ (where N is the system size for finiteMPS or the size of the unit cell for infinite MPS). In other words the state $\\ket{\\Psi(t)}$ lives in a manifold determined by these matrices, the MPS-manifold. The solution of the minimization problem is then obtained by projecting the RHS of the schrodinger equation onto the MPS manifold \n",
    "$$\\frac{d}{dt} \\ket{\\Psi(A)} = -i \\hat{P}_{T\\ket{\\Psi(A)}} \\hat{H}\\ket{\\Psi(A)}$$\n",
    "where $\\hat{P}_{T\\ket{\\Psi(A)}}$ is the operator that projects the state onto the tangent space\n",
    "This means that the time-evolving state will never leave the MPS manifold and can thus be parametrized by the time dependent As. One can in principle solve the above equation by working everything out in terms the As and their time derivatives. This gives a complicated set of non-linear equation that can be solved by one's favourite finite difference scheme, but requires the inversion of matrices with small singular values (and thus numerical instabilities)."
   ]
  },
  {
   "attachments": {},
   "cell_type": "markdown",
   "metadata": {},
   "source": [
    "One can show that the projection operator for the mixed canonical form is given by\n",
    "$$expression$$\n",
    "The projection operation consists of two sums, one where we have brought the tensor on site $n$ into AC form and one where we only have the bond tensor C. The insight is that we can solve each term seperately (and in fact in any order). For each site $n$ of the MPS we have\n",
    "$$\\dot{A}_C(n) = -i \\hat{H}_{eff}^{A_C}(n) A_C(n)$$ \n",
    "and $$\\dot{C}(n) = i \\hat{H}_{eff}^{C}(n) C(n)$$\n",
    "Aproximating the effective Hamiltonians as independent of the other $A_C$ and $C$ these can be integrated exactly\n",
    "$$A_C(n,t) = \\exp(-i \\hat{H}_{eff}^{A_C}(n)) A_C(n,0) $$ \n",
    "and $$C(n,t) = \\exp(i \\hat{H}_{eff}^{C}(n)) C(n,0) $$\n",
    "A natural way to solve the set of equations is then, starting from the first site\n",
    "\n",
    " * update $A_C(n)$ according to the above formula\n",
    " * QR the resulting new $A_C'$ to get a new updated $A_L(n,t+dt)$ en $\\tilde{C}$\n",
    " * Update the new $\\tilde{C}$ via the above to get an updated $C(n+1,t+dt)$\n",
    " * Absorb the updated $C(n+1,t+dt)$ into $A_R(n+1,t)$ to get a new $A_C(n+1)$ and repeat\n",
    "\n",
    "At the end of the chain one only updates the $A_C$ since there is no $C$ there. Doing the above left to right sweep gives a first order integrator i.e. we have solved the time evolution up to order $\\mathcal{O}(dt^2)$. Since the terms can be solved in any order we can also perform a reverse sweep i.e. working from right to left. Combining this with the left to right sweep yields a second order integrator (because the reverse sweep is the adjoint of the left to right sweep).\n"
   ]
  },
  {
   "cell_type": "code",
   "execution_count": 2,
   "metadata": {},
   "outputs": [],
   "source": []
  }
 ],
 "metadata": {
  "kernelspec": {
   "display_name": "Julia 1.8.5",
   "language": "julia",
   "name": "julia-1.8"
  },
  "language_info": {
   "file_extension": ".jl",
   "mimetype": "application/julia",
   "name": "julia",
   "version": "1.8.5"
  },
  "orig_nbformat": 4
 },
 "nbformat": 4,
 "nbformat_minor": 2
}
